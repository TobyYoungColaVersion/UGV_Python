{
 "cells": [
  {
   "cell_type": "code",
   "execution_count": 1,
   "metadata": {},
   "outputs": [
    {
     "name": "stdout",
     "output_type": "stream",
     "text": [
      "['GLPK_CMD']\n"
     ]
    }
   ],
   "source": [
    "import pulp\n",
    "print(pulp.listSolvers(onlyAvailable=True))"
   ]
  },
  {
   "cell_type": "code",
   "execution_count": 2,
   "metadata": {},
   "outputs": [
    {
     "data": {
      "text/plain": [
       "[1, 2, 3, 4]"
      ]
     },
     "execution_count": 2,
     "metadata": {},
     "output_type": "execute_result"
    }
   ],
   "source": [
    "a = [1 ,2 ]\n",
    "a += [3, 4]\n",
    "a"
   ]
  },
  {
   "cell_type": "code",
   "execution_count": 3,
   "metadata": {},
   "outputs": [
    {
     "name": "stdout",
     "output_type": "stream",
     "text": [
      "2\n"
     ]
    }
   ],
   "source": [
    "print(2)"
   ]
  },
  {
   "cell_type": "code",
   "execution_count": 4,
   "metadata": {},
   "outputs": [
    {
     "ename": "NameError",
     "evalue": "name 'np' is not defined",
     "output_type": "error",
     "traceback": [
      "\u001b[1;31m---------------------------------------------------------------------------\u001b[0m",
      "\u001b[1;31mNameError\u001b[0m                                 Traceback (most recent call last)",
      "\u001b[1;32m~\\AppData\\Local\\Temp\\ipykernel_25476\\1141048963.py\u001b[0m in \u001b[0;36m<module>\u001b[1;34m\u001b[0m\n\u001b[1;32m----> 1\u001b[1;33m \u001b[0ma\u001b[0m \u001b[1;33m=\u001b[0m \u001b[1;33m[\u001b[0m\u001b[0mnp\u001b[0m\u001b[1;33m.\u001b[0m\u001b[0marray\u001b[0m\u001b[1;33m(\u001b[0m\u001b[1;33m[\u001b[0m\u001b[1;33m[\u001b[0m\u001b[1;36m0\u001b[0m\u001b[1;33m,\u001b[0m \u001b[1;36m0\u001b[0m\u001b[1;33m]\u001b[0m\u001b[1;33m]\u001b[0m\u001b[1;33m)\u001b[0m\u001b[1;33m,\u001b[0m \u001b[0mnp\u001b[0m\u001b[1;33m.\u001b[0m\u001b[0marray\u001b[0m\u001b[1;33m(\u001b[0m\u001b[1;33m[\u001b[0m\u001b[1;33m[\u001b[0m\u001b[1;36m1\u001b[0m\u001b[1;33m,\u001b[0m \u001b[1;36m0\u001b[0m\u001b[1;33m]\u001b[0m\u001b[1;33m]\u001b[0m\u001b[1;33m)\u001b[0m\u001b[1;33m,\u001b[0m \u001b[0mnp\u001b[0m\u001b[1;33m.\u001b[0m\u001b[0marray\u001b[0m\u001b[1;33m(\u001b[0m\u001b[1;33m[\u001b[0m\u001b[1;33m[\u001b[0m\u001b[1;36m0\u001b[0m\u001b[1;33m,\u001b[0m \u001b[1;36m0\u001b[0m\u001b[1;33m]\u001b[0m\u001b[1;33m]\u001b[0m\u001b[1;33m)\u001b[0m\u001b[1;33m]\u001b[0m\u001b[1;33m\u001b[0m\u001b[1;33m\u001b[0m\u001b[0m\n\u001b[0m",
      "\u001b[1;31mNameError\u001b[0m: name 'np' is not defined"
     ]
    }
   ],
   "source": [
    "a = [np.array([[0, 0]]), np.array([[1, 0]]), np.array([[0, 0]])]"
   ]
  },
  {
   "cell_type": "code",
   "execution_count": null,
   "metadata": {},
   "outputs": [],
   "source": [
    "a[2]"
   ]
  },
  {
   "cell_type": "code",
   "execution_count": null,
   "metadata": {},
   "outputs": [],
   "source": [
    "np.arctan2(1,1)/np.pi"
   ]
  },
  {
   "cell_type": "code",
   "execution_count": null,
   "metadata": {},
   "outputs": [],
   "source": [
    "import numpy as np\n",
    "\n",
    "# 创建一个NumPy数组\n",
    "arr = np.array([425., 200.])\n",
    "\n",
    "# 将NumPy数组转换为Python列表\n",
    "arr_list = arr.tolist()\n",
    "\n",
    "print(arr_list)"
   ]
  },
  {
   "cell_type": "code",
   "execution_count": null,
   "metadata": {},
   "outputs": [
    {
     "name": "stdout",
     "output_type": "stream",
     "text": [
      "-0.24999999999999997\n"
     ]
    }
   ],
   "source": [
    "import numpy as np\n",
    "\n",
    "def mid_angle(theta1, theta2):\n",
    "    # Ensure the angles are between -pi and pi\n",
    "    theta1 = np.arctan2(np.sin(theta1), np.cos(theta1))\n",
    "    theta2 = np.arctan2(np.sin(theta2), np.cos(theta2))\n",
    "\n",
    "    # Compute the mid angle\n",
    "    sin_avg = (np.sin(theta1) + np.sin(theta2)) / 2\n",
    "    cos_avg = (np.cos(theta1) + np.cos(theta2)) / 2\n",
    "    theta_mid = np.arctan2(sin_avg, cos_avg)\n",
    "\n",
    "    return theta_mid\n",
    "\n",
    "# Example usage\n",
    "theta1 = 0.25\n",
    "theta2 = -0.75\n",
    "\n",
    "theta_mid = mid_angle(theta1, theta2)\n",
    "print(theta_mid)\n"
   ]
  },
  {
   "cell_type": "code",
   "execution_count": null,
   "metadata": {},
   "outputs": [
    {
     "ename": "ModuleNotFoundError",
     "evalue": "No module named 'Original_APF'",
     "output_type": "error",
     "traceback": [
      "\u001b[1;31m---------------------------------------------------------------------------\u001b[0m",
      "\u001b[1;31mModuleNotFoundError\u001b[0m                       Traceback (most recent call last)",
      "\u001b[1;32m~\\AppData\\Local\\Temp\\ipykernel_2880\\2181115960.py\u001b[0m in \u001b[0;36m<module>\u001b[1;34m\u001b[0m\n\u001b[0;32m      4\u001b[0m \"\"\"\n\u001b[0;32m      5\u001b[0m \u001b[1;33m\u001b[0m\u001b[0m\n\u001b[1;32m----> 6\u001b[1;33m \u001b[1;32mfrom\u001b[0m \u001b[0mOriginal_APF\u001b[0m \u001b[1;32mimport\u001b[0m \u001b[0mAPF\u001b[0m\u001b[1;33m,\u001b[0m \u001b[0mVector2d\u001b[0m\u001b[1;33m\u001b[0m\u001b[1;33m\u001b[0m\u001b[0m\n\u001b[0m\u001b[0;32m      7\u001b[0m \u001b[1;32mimport\u001b[0m \u001b[0mmatplotlib\u001b[0m\u001b[1;33m.\u001b[0m\u001b[0mpyplot\u001b[0m \u001b[1;32mas\u001b[0m \u001b[0mplt\u001b[0m\u001b[1;33m\u001b[0m\u001b[1;33m\u001b[0m\u001b[0m\n\u001b[0;32m      8\u001b[0m \u001b[1;32mimport\u001b[0m \u001b[0mmath\u001b[0m\u001b[1;33m\u001b[0m\u001b[1;33m\u001b[0m\u001b[0m\n",
      "\u001b[1;31mModuleNotFoundError\u001b[0m: No module named 'Original_APF'"
     ]
    }
   ],
   "source": [
    "\"\"\"\n",
    "人工势场寻路算法实现\n",
    "改进人工势场，解决不可达问题，仍存在局部最小点问题\n",
    "\"\"\"\n",
    "\n",
    "from Original_APF import APF, Vector2d\n",
    "import matplotlib.pyplot as plt\n",
    "import math\n",
    "from matplotlib.patches import Circle\n",
    "import random\n",
    "\n",
    "\n",
    "def check_vec_angle(v1: Vector2d, v2: Vector2d):\n",
    "    v1_v2 = v1.deltaX * v2.deltaX + v1.deltaY * v2.deltaY\n",
    "    angle = math.acos(v1_v2 / (v1.length * v2.length)) * 180 / math.pi\n",
    "    return angle\n",
    "\n",
    "\n",
    "class APF_Improved(APF):\n",
    "    def __init__(self, start: (), goal: (), obstacles: [], k_att: float, k_rep: float, rr: float,\n",
    "                 step_size: float, max_iters: int, goal_threshold: float, is_plot=False):\n",
    "        self.start = Vector2d(start[0], start[1])\n",
    "        self.current_pos = Vector2d(start[0], start[1])\n",
    "        self.goal = Vector2d(goal[0], goal[1])\n",
    "        self.obstacles = [Vector2d(OB[0], OB[1]) for OB in obstacles]\n",
    "        self.k_att = k_att\n",
    "        self.k_rep = k_rep\n",
    "        self.rr = rr  # 斥力作用范围\n",
    "        self.step_size = step_size\n",
    "        self.max_iters = max_iters\n",
    "        self.iters = 0\n",
    "        self.goal_threashold = goal_threshold\n",
    "        self.path = list()\n",
    "        self.is_path_plan_success = False\n",
    "        self.is_plot = is_plot\n",
    "        self.delta_t = 0.01\n",
    "\n",
    "    def repulsion(self):\n",
    "        \"\"\"\n",
    "        斥力计算, 改进斥力函数, 解决不可达问题\n",
    "        :return: 斥力大小\n",
    "        \"\"\"\n",
    "        rep = Vector2d(0, 0)  # 所有障碍物总斥力\n",
    "        for obstacle in self.obstacles:\n",
    "            # obstacle = Vector2d(0, 0)\n",
    "            obs_to_rob = self.current_pos - obstacle\n",
    "            rob_to_goal = self.goal - self.current_pos\n",
    "            if (obs_to_rob.length > self.rr):  # 超出障碍物斥力影响范围\n",
    "                pass\n",
    "            else:\n",
    "                rep_1 = Vector2d(obs_to_rob.direction[0], obs_to_rob.direction[1]) * self.k_rep * (\n",
    "                        1.0 / obs_to_rob.length - 1.0 / self.rr) / (obs_to_rob.length ** 2) * (rob_to_goal.length ** 2)\n",
    "                rep_2 = Vector2d(rob_to_goal.direction[0], rob_to_goal.direction[1]) * self.k_rep * ((1.0 / obs_to_rob.length - 1.0 / self.rr) ** 2) * rob_to_goal.length\n",
    "                rep +=(rep_1+rep_2)\n",
    "        return rep\n",
    "\n",
    "\n",
    "if __name__ == '__main__':\n",
    "    # 相关参数设置\n",
    "    k_att, k_rep = 1.0, 0.8\n",
    "    rr = 3\n",
    "    step_size, max_iters, goal_threashold = .2, 500, .2  # 步长0.5寻路1000次用时4.37s, 步长0.1寻路1000次用时21s\n",
    "    step_size_ = 2\n",
    "\n",
    "    # 设置、绘制起点终点\n",
    "    start, goal = (0, 0), (15, 15)\n",
    "    is_plot = True\n",
    "    if is_plot:\n",
    "        fig = plt.figure(figsize=(7, 7))\n",
    "        subplot = fig.add_subplot(111)\n",
    "        subplot.set_xlabel('X-distance: m')\n",
    "        subplot.set_ylabel('Y-distance: m')\n",
    "        subplot.plot(start[0], start[1], '*r')\n",
    "        subplot.plot(goal[0], goal[1], '*r')\n",
    "    # 障碍物设置及绘制\n",
    "    obs = [[1, 4], [2, 4], [3, 3], [6, 1], [6, 7], [10, 6], [11, 12], [14, 14]]\n",
    "    print('obstacles: {0}'.format(obs))\n",
    "    for i in range(0):\n",
    "        obs.append([random.uniform(2, goal[1] - 1), random.uniform(2, goal[1] - 1)])\n",
    "\n",
    "    if is_plot:\n",
    "        for OB in obs:\n",
    "            circle = Circle(xy=(OB[0], OB[1]), radius=rr, alpha=0.3)\n",
    "            subplot.add_patch(circle)\n",
    "            subplot.plot(OB[0], OB[1], 'xk')\n",
    "    # t1 = time.time()\n",
    "    # for i in range(1000):\n",
    "\n",
    "    # path plan\n",
    "    if is_plot:\n",
    "        apf = APF_Improved(start, goal, obs, k_att, k_rep, rr, step_size, max_iters, goal_threashold, is_plot)\n",
    "    else:\n",
    "        apf = APF_Improved(start, goal, obs, k_att, k_rep, rr, step_size, max_iters, goal_threashold, is_plot)\n",
    "    apf.path_plan()\n",
    "    if apf.is_path_plan_success:\n",
    "        path = apf.path\n",
    "        path_ = []\n",
    "        i = int(step_size_ / step_size)\n",
    "        while (i < len(path)):\n",
    "            path_.append(path[i])\n",
    "            i += int(step_size_ / step_size)\n",
    "\n",
    "        if path_[-1] != path[-1]:  # 添加最后一个点\n",
    "            path_.append(path[-1])\n",
    "        print('planed path points:{}'.format(path_))\n",
    "        print('path plan success')\n",
    "        if is_plot:\n",
    "            px, py = [K[0] for K in path_], [K[1] for K in path_]  # 路径点x坐标列表, y坐标列表\n",
    "            subplot.plot(px, py, '^k')\n",
    "            plt.show()\n",
    "    else:\n",
    "        print('path plan failed')\n",
    "    # t2 = time.time()\n",
    "    # print('寻路1000次所用时间:{}, 寻路1次所用时间:{}'.format(t2-t1, (t2-t1)/1000))\n",
    "\n"
   ]
  },
  {
   "cell_type": "code",
   "execution_count": null,
   "metadata": {},
   "outputs": [
    {
     "data": {
      "text/plain": [
       "(202.5, 373.20508076)"
      ]
     },
     "execution_count": 17,
     "metadata": {},
     "output_type": "execute_result"
    }
   ],
   "source": [
    "a= np.array([[502.5       , 200.        ],\n",
    "       [202.5       , 373.20508076],\n",
    "       [202.5       ,  26.79491924]])\n",
    "c = tuple(a[1])\n",
    "c"
   ]
  },
  {
   "cell_type": "code",
   "execution_count": null,
   "metadata": {},
   "outputs": [
    {
     "name": "stdout",
     "output_type": "stream",
     "text": [
      "0\n",
      "1\n",
      "2\n"
     ]
    }
   ],
   "source": [
    "for i in range(3):\n",
    "    print(i)"
   ]
  },
  {
   "cell_type": "code",
   "execution_count": 7,
   "metadata": {},
   "outputs": [
    {
     "data": {
      "text/plain": [
       "300.5"
      ]
     },
     "execution_count": 7,
     "metadata": {},
     "output_type": "execute_result"
    }
   ],
   "source": [
    "import numpy as np\n",
    "a = np.array([300.5, 200. ])\n",
    "a[0]"
   ]
  },
  {
   "cell_type": "code",
   "execution_count": 9,
   "metadata": {},
   "outputs": [
    {
     "name": "stdout",
     "output_type": "stream",
     "text": [
      "[[5, 3, 6], [2, 0, 1], [8, 7, 4]]\n"
     ]
    }
   ],
   "source": [
    "import numpy as np\n",
    "\n",
    "def contract_net_protocol(cost_dict):\n",
    "    # 初始化\n",
    "    targets = list(cost_dict.keys())\n",
    "    ugvs = list(cost_dict[targets[0]].keys())\n",
    "    n_targets = len(targets)\n",
    "    n_ugvs = len(ugvs)\n",
    "\n",
    "    assignments = {t: [] for t in targets}\n",
    "    remaining_ugvs = set(ugvs)\n",
    "\n",
    "    # 确保每个目标至少分配到3个点\n",
    "    for t in targets:\n",
    "        bids = [(u, cost_dict[t][u]) for u in remaining_ugvs]\n",
    "        bids.sort(key=lambda x: x[1])  # 按成本排序\n",
    "        for u, _ in bids[:3]:  # 选择前3个成本最低的UGV\n",
    "            assignments[t].append(u)\n",
    "            remaining_ugvs.remove(u)\n",
    "        if len(assignments[t]) < 3:\n",
    "            raise ValueError(f\"无法满足目标 {t} 至少分配到3个点的约束条件\")\n",
    "\n",
    "    # 分配剩余的UGV，确保每个目标不超过5个点\n",
    "    while remaining_ugvs:\n",
    "        bids = []\n",
    "        for t in targets:\n",
    "            for u in remaining_ugvs:\n",
    "                bids.append((u, t, cost_dict[t][u]))\n",
    "        bids.sort(key=lambda x: x[2])  # 按成本排序\n",
    "        for u, t, _ in bids:\n",
    "            if len(assignments[t]) < 5:\n",
    "                assignments[t].append(u)\n",
    "                remaining_ugvs.remove(u)\n",
    "                break\n",
    "\n",
    "    # 确保每个目标分配到的点不超过5个\n",
    "    for t in targets:\n",
    "        if len(assignments[t]) > 5:\n",
    "            raise ValueError(f\"目标 {t} 分配的点超过5个\")\n",
    "\n",
    "    # 转换为分配列表\n",
    "    result = [assignments[t] for t in targets]\n",
    "\n",
    "    return result\n",
    "# 示例使用\n",
    "cost_dict = {\n",
    "    \"Target_0\": {0: 2786.531487222121, 1: 2717.141293354679, 7: 2665.6269656421377, 2: 2758.712848725679, 6: 209.80176109551746, 3: 191.19505225805992, 4: 2546.4535064771144, 8: 211.79407586165013, 5: 188.71857182411463}, \n",
    "    \"Target_1\": {0: 693.8583480919154, 1: 697.2566760652994, 7: 748.83756852169, 2: 681.4751559151266, 6: 3537.702347411496, 3: 3321.0435791638993, 4: 881.2560596238144, 8: 3594.6688509045384, 5: 3258.2662164458225},\n",
    "    \"Target_2\": {0: 2404.383627400785, 1: 2559.1189681649075, 7: 2431.784308832652, 2: 2439.4056679026744, 6: 1628.6516195994427, 3: 1835.9578257827973, 4: 2482.683700618737, 8: 1897.0929139596337, 5: 1556.4379882833684}\n",
    "}\n",
    "\n",
    "result = contract_net_protocol(cost_dict)\n",
    "print(result)"
   ]
  }
 ],
 "metadata": {
  "kernelspec": {
   "display_name": "UGV",
   "language": "python",
   "name": "python3"
  },
  "language_info": {
   "codemirror_mode": {
    "name": "ipython",
    "version": 3
   },
   "file_extension": ".py",
   "mimetype": "text/x-python",
   "name": "python",
   "nbconvert_exporter": "python",
   "pygments_lexer": "ipython3",
   "version": "3.7.1"
  }
 },
 "nbformat": 4,
 "nbformat_minor": 2
}
